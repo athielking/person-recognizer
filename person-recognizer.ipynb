{
 "cells": [
  {
   "cell_type": "markdown",
   "metadata": {},
   "source": [
    "Define cv2_imshow from google collab because it wont install"
   ]
  },
  {
   "cell_type": "code",
   "execution_count": null,
   "metadata": {},
   "outputs": [],
   "source": [
    "import cv2\n",
    "from IPython import display\n",
    "import PIL\n",
    "\n",
    "def cv2_imshow(a):\n",
    "  \"\"\"A replacement for cv2.imshow() for use in Jupyter notebooks.\n",
    "\n",
    "  Args:\n",
    "    a : np.ndarray. shape (N, M) or (N, M, 1) is an NxM grayscale image. shape\n",
    "      (N, M, 3) is an NxM BGR color image. shape (N, M, 4) is an NxM BGRA color\n",
    "      image.\n",
    "  \"\"\"\n",
    "  a = a.clip(0, 255).astype('uint8')\n",
    "  # cv2 stores colors as BGR; convert to RGB\n",
    "  if a.ndim == 3:\n",
    "    if a.shape[2] == 4:\n",
    "      a = cv2.cvtColor(a, cv2.COLOR_BGRA2RGBA)\n",
    "    else:\n",
    "      a = cv2.cvtColor(a, cv2.COLOR_BGR2RGB)\n",
    "  display.display(PIL.Image.fromarray(a))\n"
   ]
  },
  {
   "cell_type": "markdown",
   "metadata": {},
   "source": [
    "# Configure our Model\n",
    "\n",
    "using PyTorch download a pre-trained YOLOv5 model for image processing"
   ]
  },
  {
   "cell_type": "code",
   "execution_count": null,
   "metadata": {},
   "outputs": [],
   "source": [
    "import torch\n",
    "\n",
    "model = torch.hub.load('ultralytics/yolov5', 'yolov5s', pretrained=True)\n",
    "model.conf = 0.5 #NMS Confidence Threshold\n",
    "model.multi_label = False\n",
    "model.classes = [0] # Detect people only\n",
    "model.max_det = 1000"
   ]
  },
  {
   "cell_type": "markdown",
   "metadata": {},
   "source": [
    "# Process Images\n",
    "\n",
    "loop through our directory and see what images have people in them"
   ]
  },
  {
   "cell_type": "code",
   "execution_count": null,
   "metadata": {},
   "outputs": [],
   "source": [
    "import os\n",
    "\n",
    "directory_path = '/mnt/c/Users/athie/Pictures'\n",
    "for filename in os.listdir(directory_path):\n",
    "    if filename.endswith((\".jpg\", \".jpeg\", \".png\", \".gif\")):\n",
    "\n",
    "        image_path = os.path.join(directory_path, filename)\n",
    "        \n",
    "        # Open and process the image using OpenCV\n",
    "        img = cv2.imread(image_path)\n",
    "        img = cv2.cvtColor(img, cv2.COLOR_BGR2RGB)  # Convert to RGB format\n",
    "       \n",
    "        # Perform image processing or analysis here\n",
    "        with torch.no_grad():\n",
    "            results = model(img)\n",
    "            results.render()\n",
    "            dataFrame = results.pandas().xyxy[0]\n",
    "            \n",
    "            #print(dataFrame)\n",
    "            located = len(dataFrame.loc[dataFrame['class'] == 0].index)\n",
    "            if located:\n",
    "                print(image_path)\n",
    "                cv2_imshow(results.ims[0])"
   ]
  }
 ],
 "metadata": {
  "kernelspec": {
   "display_name": ".venv",
   "language": "python",
   "name": "python3"
  },
  "language_info": {
   "codemirror_mode": {
    "name": "ipython",
    "version": 3
   },
   "file_extension": ".py",
   "mimetype": "text/x-python",
   "name": "python",
   "nbconvert_exporter": "python",
   "pygments_lexer": "ipython3",
   "version": "3.8.10"
  },
  "orig_nbformat": 4
 },
 "nbformat": 4,
 "nbformat_minor": 2
}
